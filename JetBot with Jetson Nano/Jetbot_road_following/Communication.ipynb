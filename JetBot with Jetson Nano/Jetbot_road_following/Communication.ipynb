{
 "cells": [
  {
   "cell_type": "markdown",
   "id": "british-deposit",
   "metadata": {},
   "source": [
    "### To have communication V2X we'll use MQTT (GRAY JETBOT)"
   ]
  },
  {
   "cell_type": "code",
   "execution_count": null,
   "id": "played-diving",
   "metadata": {},
   "outputs": [],
   "source": [
    "# Install MQTT\n",
    "# !pip3 install paho-mqtt"
   ]
  },
  {
   "cell_type": "code",
   "execution_count": null,
   "id": "limiting-conducting",
   "metadata": {},
   "outputs": [],
   "source": [
    "# Transmitter\n",
    "\n",
    "import paho.mqtt.client as mqtt\n",
    "\n",
    "# Broker address (MQTT server)\n",
    "broker_address = \"192.168.21.1\"  # IP of the MQTT broker\n",
    "client = mqtt.Client(\"JetBot_Emisor\")  # Client name (can be anything)\n",
    "client.connect(broker_address)  # Connect to the broker\n",
    "\n",
    "def send_data(speed, angle):\n",
    "    # Data to be sent as a string (speed, angle)\n",
    "    data = f\"speed: {speed}, angle:{angle}\"\n",
    "    client.publish(\"jetbot/state\", data)  # Publish message to the 'jetbot/state' topic\n",
    "    print(f\"Message sent: {data}\")\n",
    "\n",
    "# Example of sending speed and angle\n",
    "send_data(0.5, 15)  # Send speed and angle to the topic"
   ]
  },
  {
   "cell_type": "code",
   "execution_count": null,
   "id": "lightweight-curve",
   "metadata": {},
   "outputs": [],
   "source": [
    "import paho.mqtt.client as mqtt\n",
    "\n",
    "# Callback function to handle messages when they are received\n",
    "def on_message(client, userdata, message):\n",
    "    # Decode the message payload from bytes to string\n",
    "    data = message.payload.decode()\n",
    "    \n",
    "    # Parse the data string to extract speed and angle values\n",
    "    parts = data.split(\",\")  # Split the message at commas\n",
    "    speed = float(parts[0].split(\":\")[1].strip())  # Extract the speed value\n",
    "    angle = float(parts[1].split(\":\")[1].strip())  # Extract the angle value\n",
    "    \n",
    "    # Print the extracted values\n",
    "    print(f\"Received message: Speed = {speed}, Angle = {angle}\")\n",
    "    \n",
    "# MQTT client setup\n",
    "client = mqtt.Client(\"JetBot_Receptor\")  # Client name (can be anything)\n",
    "client.connect(\"192.168.21.1\")  # Connect to the MQTT broker at the given address\n",
    "\n",
    "client.subscribe(\"jetbot/state\")  # Subscribe to the 'jetbot/state' topic\n",
    "client.on_message = on_message  # Set the callback function to handle messages\n",
    "\n",
    "client.loop_forever()  # Start the MQTT client loop to listen for messages\n"
   ]
  },
  {
   "cell_type": "code",
   "execution_count": null,
   "id": "chief-voluntary",
   "metadata": {},
   "outputs": [],
   "source": []
  }
 ],
 "metadata": {
  "kernelspec": {
   "display_name": "Python 3",
   "language": "python",
   "name": "python3"
  },
  "language_info": {
   "codemirror_mode": {
    "name": "ipython",
    "version": 3
   },
   "file_extension": ".py",
   "mimetype": "text/x-python",
   "name": "python",
   "nbconvert_exporter": "python",
   "pygments_lexer": "ipython3",
   "version": "3.6.9"
  }
 },
 "nbformat": 4,
 "nbformat_minor": 5
}
