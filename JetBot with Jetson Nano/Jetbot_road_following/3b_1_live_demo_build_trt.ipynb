{
 "cells": [
  {
   "cell_type": "markdown",
   "metadata": {},
   "source": [
    "# Road Following - Build TensorRT model for live demo"
   ]
  },
  {
   "cell_type": "markdown",
   "metadata": {},
   "source": [
    "In this notebook, we will optimize the model we trained using TensorRT."
   ]
  },
  {
   "cell_type": "code",
   "execution_count": 1,
   "metadata": {},
   "outputs": [],
   "source": [
    "#############################################\n",
    "# Load the trained model\n",
    "#############################################\n",
    "\n",
    "import torchvision\n",
    "import torch\n",
    "\n",
    "model = torchvision.models.resnet18(pretrained=False)\n",
    "model.fc = torch.nn.Linear(512, 2)\n",
    "model = model.cuda().eval().half()\n",
    "\n",
    "#############################################\n",
    "# load the trained weights\n",
    "#############################################\n",
    "\n",
    "model.load_state_dict(torch.load('best_steering_model_xy.pth'))\n",
    "\n",
    "#############################################\n",
    "# Currently, the model weights are located on the CPU memory execute the code below to transfer to the GPU device.\n",
    "#############################################\n",
    "\n",
    "device = torch.device('cuda')\n",
    "\n",
    "#############################################\n",
    "# TensorRT\n",
    "#############################################\n",
    "# Convert and optimize the model using torch2trt for faster inference with TensorRT\n",
    "\n",
    "from torch2trt import torch2trt\n",
    "\n",
    "data = torch.zeros((1, 3, 224, 224)).cuda().half()\n",
    "\n",
    "model_trt = torch2trt(model, [data], fp16_mode=True)\n",
    "\n",
    "#############################################\n",
    "# Save the optimized model\n",
    "#############################################\n",
    "\n",
    "torch.save(model_trt.state_dict(), 'best_steering_model_xy_trt.pth')"
   ]
  },
  {
   "cell_type": "code",
   "execution_count": null,
   "metadata": {},
   "outputs": [],
   "source": []
  }
 ],
 "metadata": {
  "kernelspec": {
   "display_name": "Python 3",
   "language": "python",
   "name": "python3"
  },
  "language_info": {
   "codemirror_mode": {
    "name": "ipython",
    "version": 3
   },
   "file_extension": ".py",
   "mimetype": "text/x-python",
   "name": "python",
   "nbconvert_exporter": "python",
   "pygments_lexer": "ipython3",
   "version": "3.6.9"
  }
 },
 "nbformat": 4,
 "nbformat_minor": 4
}
