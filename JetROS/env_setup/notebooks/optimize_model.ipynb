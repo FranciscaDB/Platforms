{
 "cells": [
  {
   "cell_type": "code",
   "execution_count": 1,
   "id": "9cd98519-ad52-41bd-8c30-e26c6cc83696",
   "metadata": {},
   "outputs": [
    {
     "name": "stderr",
     "output_type": "stream",
     "text": [
      "/home/nelson/.local/lib/python3.8/site-packages/torchvision-0.16.1-py3.8-linux-aarch64.egg/torchvision/models/_utils.py:208: UserWarning: The parameter 'pretrained' is deprecated since 0.13 and may be removed in the future, please use 'weights' instead.\n",
      "  warnings.warn(\n",
      "/home/nelson/.local/lib/python3.8/site-packages/torchvision-0.16.1-py3.8-linux-aarch64.egg/torchvision/models/_utils.py:223: UserWarning: Arguments other than a weight enum or `None` for 'weights' are deprecated since 0.13 and may be removed in the future. The current behavior is equivalent to passing `weights=None`.\n",
      "  warnings.warn(msg)\n"
     ]
    }
   ],
   "source": [
    "#############################################\n",
    "# Load the trained model\n",
    "#############################################\n",
    "\n",
    "import torchvision\n",
    "import torch\n",
    "\n",
    "model = torchvision.models.resnet18(pretrained=False)\n",
    "model.fc = torch.nn.Linear(512, 2)\n",
    "model = model.cuda().eval().half()\n",
    "\n",
    "#############################################\n",
    "# load the trained weights\n",
    "#############################################\n",
    "\n",
    "model.load_state_dict(torch.load('best_steering_model_xy.pth'))\n",
    "\n",
    "#############################################\n",
    "# Currently, the model weights are located on the CPU memory execute the code below to transfer to the GPU device.\n",
    "#############################################\n",
    "\n",
    "device = torch.device('cuda')\n",
    "\n",
    "#############################################\n",
    "# TensorRT\n",
    "#############################################\n",
    "# Convert and optimize the model using torch2trt for faster inference with TensorRT\n",
    "\n",
    "from torch2trt import torch2trt\n",
    "\n",
    "data = torch.zeros((1, 3, 224, 224)).cuda().half()\n",
    "\n",
    "model_trt = torch2trt(model, [data], fp16_mode=True)\n",
    "\n",
    "#############################################\n",
    "# Save the optimized model\n",
    "#############################################\n",
    "\n",
    "torch.save(model_trt.state_dict(), 'best_steering_model_xy_trt.pth')"
   ]
  },
  {
   "cell_type": "code",
   "execution_count": null,
   "id": "418b93d5-ccdf-4e4c-ab9f-8d9c01bb7ee8",
   "metadata": {},
   "outputs": [],
   "source": []
  }
 ],
 "metadata": {
  "kernelspec": {
   "display_name": "Python 3 (ipykernel)",
   "language": "python",
   "name": "python3"
  },
  "language_info": {
   "codemirror_mode": {
    "name": "ipython",
    "version": 3
   },
   "file_extension": ".py",
   "mimetype": "text/x-python",
   "name": "python",
   "nbconvert_exporter": "python",
   "pygments_lexer": "ipython3",
   "version": "3.8.10"
  }
 },
 "nbformat": 4,
 "nbformat_minor": 5
}
