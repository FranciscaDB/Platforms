{
 "cells": [
  {
   "cell_type": "code",
   "execution_count": 2,
   "id": "44b633c6-c8de-4b09-88cc-283a64fa50e1",
   "metadata": {},
   "outputs": [
    {
     "name": "stdout",
     "output_type": "stream",
     "text": [
      "usb_cam node started.\n"
     ]
    }
   ],
   "source": [
    "import subprocess\n",
    "import os\n",
    "import signal\n",
    "\n",
    "# Start the usb_cam node in the background\n",
    "usb_cam_process = subprocess.Popen(\n",
    "    ['ros2', 'run', 'usb_cam', 'usb_cam_node_exe'],\n",
    "    stdout=subprocess.PIPE,\n",
    "    stderr=subprocess.PIPE,\n",
    "    preexec_fn=os.setsid # esto es clave para agrupar procesos\n",
    ")\n",
    "\n",
    "print(\"usb_cam node started.\")"
   ]
  },
  {
   "cell_type": "code",
   "execution_count": 3,
   "id": "5c632874-17e8-48c8-974e-5a0bcac85fc7",
   "metadata": {},
   "outputs": [
    {
     "data": {
      "application/vnd.jupyter.widget-view+json": {
       "model_id": "c4ac9ec69599412c82e3c163c36d2893",
       "version_major": 2,
       "version_minor": 0
      },
      "text/plain": [
       "VBox(children=(HBox(children=(ClickableImageWidget(value=b'', height='480', width='640'), Image(value=b'', hei…"
      ]
     },
     "metadata": {},
     "output_type": "display_data"
    }
   ],
   "source": [
    "import rclpy\n",
    "from rclpy.node import Node\n",
    "from sensor_msgs.msg import Image\n",
    "from cv_bridge import CvBridge\n",
    "\n",
    "import ipywidgets as widgets\n",
    "from IPython.display import display\n",
    "from jupyter_clickable_image_widget import ClickableImageWidget\n",
    "\n",
    "from uuid import uuid1\n",
    "import os\n",
    "import glob\n",
    "import cv2\n",
    "import numpy as np\n",
    "import threading\n",
    "\n",
    "# Directorio para guardar imágenes\n",
    "DATASET_DIR = 'dataset_xy'\n",
    "os.makedirs(DATASET_DIR, exist_ok=True)\n",
    "\n",
    "# Inicialización del bridge\n",
    "bridge = CvBridge()\n",
    "\n",
    "# Widgets\n",
    "camera_widget = ClickableImageWidget(width=640, height=480)\n",
    "snapshot_widget = widgets.Image(width=640, height=480)\n",
    "count_widget = widgets.IntText(description='count', value=len(glob.glob(os.path.join(DATASET_DIR, '*.jpg'))))\n",
    "\n",
    "# Variables globales\n",
    "camera_node = None\n",
    "camera_active = False\n",
    "ros_thread = None\n",
    "\n",
    "# Nodo de la cámara\n",
    "class CameraNode(Node):\n",
    "    def __init__(self):\n",
    "        super().__init__('jupyter_camera_listener')\n",
    "        self.subscription = self.create_subscription(\n",
    "            Image,\n",
    "            '/image_raw',\n",
    "            self.listener_callback,\n",
    "            10\n",
    "        )\n",
    "\n",
    "    def listener_callback(self, msg):\n",
    "        global camera_active\n",
    "        if not camera_active:\n",
    "            return\n",
    "\n",
    "        cv_image = bridge.imgmsg_to_cv2(msg, desired_encoding='bgr8')\n",
    "        jpeg = cv2.imencode('.jpg', cv_image)[1].tobytes()\n",
    "        camera_widget.value = jpeg\n",
    "\n",
    "# Función para iniciar ROS y el nodo en un hilo\n",
    "def start_ros_camera():\n",
    "    global camera_node, camera_active, ros_thread\n",
    "\n",
    "    if camera_active or rclpy.ok():\n",
    "        print(\"⚠️ La cámara ya está activa o ROS 2 sigue corriendo.\")\n",
    "        return\n",
    "\n",
    "    def ros_spin():\n",
    "        global camera_node\n",
    "        rclpy.init()\n",
    "        camera_node = CameraNode()\n",
    "        rclpy.spin(camera_node)\n",
    "        if camera_node is not None:\n",
    "            camera_node.destroy_node()\n",
    "        rclpy.shutdown()\n",
    "        print(\"🔁 ROS 2 detenido correctamente.\")\n",
    "\n",
    "    ros_thread = threading.Thread(target=ros_spin, daemon=True)\n",
    "    ros_thread.start()\n",
    "    camera_active = True\n",
    "    print(\"✅ Cámara iniciada.\")\n",
    "\n",
    "# Función para detener ROS sin hacer shutdown desde aquí\n",
    "def stop_ros_camera():\n",
    "    global camera_active, camera_node\n",
    "    camera_active = False\n",
    "    # Matar todo el grupo de procesos lanzado por usb_cam\n",
    "    os.killpg(os.getpgid(usb_cam_process.pid), signal.SIGINT)\n",
    "    print(\"🛑 Cámara desactivada. Esperando a que el hilo ROS termine...\")\n",
    "\n",
    "    # Desde aquí no llamamos rclpy.shutdown(), lo hace el hilo al terminar spin\n",
    "    if camera_node:\n",
    "        camera_node.destroy_node()\n",
    "        camera_node = None\n",
    "# Botones\n",
    "start_button = widgets.Button(description='Iniciar Cámara', button_style='success')\n",
    "stop_button = widgets.Button(description='Apagar Cámara', button_style='danger')\n",
    "\n",
    "start_button.on_click(lambda b: start_ros_camera())\n",
    "stop_button.on_click(lambda b: stop_ros_camera())\n",
    "\n",
    "# Guardar imagen al hacer click, solo si cámara está activa\n",
    "def save_snapshot(_, content, msg):\n",
    "    if not camera_active:\n",
    "        print(\"⚠️ Cámara no activa. No se guarda la imagen.\")\n",
    "        return\n",
    "\n",
    "    if content['event'] == 'click':\n",
    "        data = content['eventData']\n",
    "        x = int(data['offsetX'])\n",
    "        y = int(data['offsetY'])\n",
    "\n",
    "        uuid_str = 'xy_%03d_%03d_%s' % (x, y, uuid1())\n",
    "        image_path = os.path.join(DATASET_DIR, uuid_str + '.jpg')\n",
    "\n",
    "        current_image = cv2.imdecode(np.frombuffer(camera_widget.value, dtype=np.uint8), cv2.IMREAD_COLOR)\n",
    "        if current_image is not None:\n",
    "            cv2.imwrite(image_path, current_image)\n",
    "\n",
    "            annotated = current_image.copy()\n",
    "            cv2.circle(annotated, (x, y), 8, (0, 255, 0), 3)\n",
    "            snapshot_widget.value = cv2.imencode('.jpg', annotated)[1].tobytes()\n",
    "\n",
    "            count_widget.value = len(glob.glob(os.path.join(DATASET_DIR, '*.jpg')))\n",
    "\n",
    "camera_widget.on_msg(save_snapshot)\n",
    "\n",
    "# Interfaz\n",
    "data_collection_widget = widgets.VBox([\n",
    "    widgets.HBox([camera_widget, snapshot_widget]),\n",
    "    count_widget,\n",
    "    widgets.HBox([start_button, stop_button])\n",
    "])\n",
    "\n",
    "display(data_collection_widget)\n"
   ]
  },
  {
   "cell_type": "code",
   "execution_count": 5,
   "id": "1e0293e5-8617-42ae-9f52-0369a1387bb4",
   "metadata": {},
   "outputs": [
    {
     "name": "stdout",
     "output_type": "stream",
     "text": [
      "/usr/bin/python3\n"
     ]
    }
   ],
   "source": [
    "import sys\n",
    "print(sys.executable)\n"
   ]
  },
  {
   "cell_type": "code",
   "execution_count": 6,
   "id": "2dfd7cf7-a1f2-49ec-b184-af059e0ea810",
   "metadata": {},
   "outputs": [
    {
     "name": "stdout",
     "output_type": "stream",
     "text": [
      "3.8.10 (default, Mar 18 2025, 20:04:55) \n",
      "[GCC 9.4.0]\n"
     ]
    }
   ],
   "source": [
    "print(sys.version)\n"
   ]
  },
  {
   "cell_type": "code",
   "execution_count": null,
   "id": "516a95a9-e150-4ca7-aa55-fc9433ec2abf",
   "metadata": {},
   "outputs": [],
   "source": []
  }
 ],
 "metadata": {
  "kernelspec": {
   "display_name": "Python 3 (ipykernel)",
   "language": "python",
   "name": "python3"
  },
  "language_info": {
   "codemirror_mode": {
    "name": "ipython",
    "version": 3
   },
   "file_extension": ".py",
   "mimetype": "text/x-python",
   "name": "python",
   "nbconvert_exporter": "python",
   "pygments_lexer": "ipython3",
   "version": "3.8.10"
  }
 },
 "nbformat": 4,
 "nbformat_minor": 5
}
